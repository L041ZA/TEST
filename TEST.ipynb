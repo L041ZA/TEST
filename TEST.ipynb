{
 "cells": [
  {
   "cell_type": "markdown",
   "id": "98dff1b3-2d7c-4cdf-99de-a600469b9ade",
   "metadata": {},
   "source": [
    "# Primer Codigo"
   ]
  },
  {
   "cell_type": "code",
   "execution_count": 1,
   "id": "0a8b3e71-b8b2-49f4-bf7b-7e59c7f026a3",
   "metadata": {},
   "outputs": [],
   "source": [
    "x=10\n",
    "y=20\n",
    "z=x+y\n"
   ]
  },
  {
   "cell_type": "code",
   "execution_count": 2,
   "id": "ac993da9-3a21-4cce-b37a-489b9968b38a",
   "metadata": {},
   "outputs": [
    {
     "data": {
      "text/plain": [
       "30"
      ]
     },
     "execution_count": 2,
     "metadata": {},
     "output_type": "execute_result"
    }
   ],
   "source": [
    "z\n"
   ]
  },
  {
   "cell_type": "code",
   "execution_count": null,
   "id": "8c72eae5-c9df-453b-8fc8-ce28b282fe34",
   "metadata": {},
   "outputs": [],
   "source": []
  }
 ],
 "metadata": {
  "kernelspec": {
   "display_name": "Python 3 (ipykernel)",
   "language": "python",
   "name": "python3"
  },
  "language_info": {
   "codemirror_mode": {
    "name": "ipython",
    "version": 3
   },
   "file_extension": ".py",
   "mimetype": "text/x-python",
   "name": "python",
   "nbconvert_exporter": "python",
   "pygments_lexer": "ipython3",
   "version": "3.11.7"
  }
 },
 "nbformat": 4,
 "nbformat_minor": 5
}
